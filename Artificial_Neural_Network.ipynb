{
  "nbformat": 4,
  "nbformat_minor": 0,
  "metadata": {
    "colab": {
      "provenance": []
    },
    "kernelspec": {
      "name": "python3",
      "display_name": "Python 3"
    }
  },
  "cells": [
    {
      "cell_type": "markdown",
      "metadata": {
        "id": "3cbb7fRy-eyr"
      },
      "source": [
        "# Artificial Neural Network model for Combined Cycle Power Plant Performance Prediction"
      ]
    },
    {
      "cell_type": "markdown",
      "metadata": {
        "id": "8sNDnxE2-pwE"
      },
      "source": [
        "### Importing the libraries"
      ]
    },
    {
      "cell_type": "code",
      "metadata": {
        "id": "lxChR1Rk-umf"
      },
      "source": [
        "import numpy as np\n",
        "import pandas as pd\n",
        "import tensorflow as tf"
      ],
      "execution_count": 1,
      "outputs": []
    },
    {
      "cell_type": "code",
      "metadata": {
        "id": "uBTqR3nacj0e",
        "colab": {
          "base_uri": "https://localhost:8080/",
          "height": 34
        },
        "outputId": "4c0bd183-e424-429a-9fba-ceb841c06888"
      },
      "source": [
        "tf.__version__"
      ],
      "execution_count": null,
      "outputs": [
        {
          "output_type": "execute_result",
          "data": {
            "text/plain": [
              "'2.2.0-rc2'"
            ]
          },
          "metadata": {
            "tags": []
          },
          "execution_count": 2
        }
      ]
    },
    {
      "cell_type": "markdown",
      "metadata": {
        "id": "AG3FQEch-yuA"
      },
      "source": [
        "## Part 1 - Data Preprocessing"
      ]
    },
    {
      "cell_type": "markdown",
      "metadata": {
        "id": "-4zq8Mza_D9O"
      },
      "source": [
        "### Importing the dataset"
      ]
    },
    {
      "cell_type": "code",
      "metadata": {
        "id": "B9CV13Co_HHM"
      },
      "source": [
        "dataset = pd.read_excel('Folds5x2_pp.xlsx')\n",
        "X = dataset.iloc[:, :-1].values\n",
        "y = dataset.iloc[:, -1].values"
      ],
      "execution_count": 3,
      "outputs": []
    },
    {
      "cell_type": "markdown",
      "metadata": {
        "id": "VC6omXel_Up0"
      },
      "source": [
        "### Splitting the dataset into the Training set and Test set"
      ]
    },
    {
      "cell_type": "code",
      "metadata": {
        "id": "L5edeb2r_agx"
      },
      "source": [
        "from sklearn.model_selection import train_test_split\n",
        "X_train, X_test, y_train, y_test = train_test_split(X, y, test_size = 0.2, random_state = 0)"
      ],
      "execution_count": 4,
      "outputs": []
    },
    {
      "cell_type": "markdown",
      "metadata": {
        "id": "_mSLlAT9_eyI"
      },
      "source": [
        "## Part 2 - Building the ANN"
      ]
    },
    {
      "cell_type": "markdown",
      "metadata": {
        "id": "CsBULd_f_wLY"
      },
      "source": [
        "### Initializing the ANN"
      ]
    },
    {
      "cell_type": "code",
      "metadata": {
        "id": "J6Hd97Ls__Nz"
      },
      "source": [
        "ann = tf.keras.models.Sequential()"
      ],
      "execution_count": 5,
      "outputs": []
    },
    {
      "cell_type": "markdown",
      "metadata": {
        "id": "iitAFJS_ABUn"
      },
      "source": [
        "### Adding the input layer and the first hidden layer"
      ]
    },
    {
      "cell_type": "code",
      "metadata": {
        "id": "ksO_Vv40AHix"
      },
      "source": [
        "ann.add(tf.keras.layers.Dense(units=12, activation='relu'))"
      ],
      "execution_count": 18,
      "outputs": []
    },
    {
      "cell_type": "markdown",
      "metadata": {
        "id": "-lb4kK_wAKbs"
      },
      "source": [
        "### Adding the second hidden layer"
      ]
    },
    {
      "cell_type": "code",
      "metadata": {
        "id": "c2357OqEAQOQ"
      },
      "source": [
        "ann.add(tf.keras.layers.Dense(units=6, activation='relu'))"
      ],
      "execution_count": 19,
      "outputs": []
    },
    {
      "cell_type": "markdown",
      "metadata": {
        "id": "jwMOmKb3AdBY"
      },
      "source": [
        "### Adding the output layer"
      ]
    },
    {
      "cell_type": "code",
      "metadata": {
        "id": "YFATpzsUAkLL"
      },
      "source": [
        "ann.add(tf.keras.layers.Dense(units=1))"
      ],
      "execution_count": 20,
      "outputs": []
    },
    {
      "cell_type": "markdown",
      "metadata": {
        "id": "fq7e4fF6A1yy"
      },
      "source": [
        "## Part 3 - Training the ANN"
      ]
    },
    {
      "cell_type": "markdown",
      "metadata": {
        "id": "qDeylAs2An25"
      },
      "source": [
        "### Compiling the ANN"
      ]
    },
    {
      "cell_type": "code",
      "metadata": {
        "id": "pesgbWlCAtB4"
      },
      "source": [
        "ann.compile(optimizer = 'adam', loss = 'mean_squared_error')"
      ],
      "execution_count": 21,
      "outputs": []
    },
    {
      "cell_type": "markdown",
      "metadata": {
        "id": "YjVuiybYOo7r"
      },
      "source": [
        "### Training the ANN model on the Training set"
      ]
    },
    {
      "cell_type": "code",
      "metadata": {
        "id": "c_vV-tiiA5zn",
        "colab": {
          "base_uri": "https://localhost:8080/"
        },
        "outputId": "026cf7d9-b586-47a8-9728-3778151f4e99"
      },
      "source": [
        "ann.fit(X_train, y_train, batch_size = 32, epochs = 100)"
      ],
      "execution_count": 22,
      "outputs": [
        {
          "output_type": "stream",
          "name": "stdout",
          "text": [
            "Epoch 1/100\n",
            "240/240 [==============================] - 2s 2ms/step - loss: 27889.9746\n",
            "Epoch 2/100\n",
            "240/240 [==============================] - 0s 2ms/step - loss: 30.4963\n",
            "Epoch 3/100\n",
            "240/240 [==============================] - 0s 2ms/step - loss: 30.4063\n",
            "Epoch 4/100\n",
            "240/240 [==============================] - 0s 2ms/step - loss: 30.3334\n",
            "Epoch 5/100\n",
            "240/240 [==============================] - 0s 2ms/step - loss: 30.2378\n",
            "Epoch 6/100\n",
            "240/240 [==============================] - 0s 2ms/step - loss: 30.0719\n",
            "Epoch 7/100\n",
            "240/240 [==============================] - 0s 2ms/step - loss: 29.9546\n",
            "Epoch 8/100\n",
            "240/240 [==============================] - 1s 2ms/step - loss: 29.8146\n",
            "Epoch 9/100\n",
            "240/240 [==============================] - 0s 2ms/step - loss: 29.7605\n",
            "Epoch 10/100\n",
            "240/240 [==============================] - 0s 2ms/step - loss: 29.5138\n",
            "Epoch 11/100\n",
            "240/240 [==============================] - 0s 2ms/step - loss: 29.4693\n",
            "Epoch 12/100\n",
            "240/240 [==============================] - 1s 2ms/step - loss: 29.1968\n",
            "Epoch 13/100\n",
            "240/240 [==============================] - 0s 2ms/step - loss: 28.8894\n",
            "Epoch 14/100\n",
            "240/240 [==============================] - 0s 2ms/step - loss: 28.6925\n",
            "Epoch 15/100\n",
            "240/240 [==============================] - 0s 2ms/step - loss: 28.4759\n",
            "Epoch 16/100\n",
            "240/240 [==============================] - 1s 3ms/step - loss: 28.8578\n",
            "Epoch 17/100\n",
            "240/240 [==============================] - 1s 3ms/step - loss: 28.3156\n",
            "Epoch 18/100\n",
            "240/240 [==============================] - 1s 3ms/step - loss: 27.9941\n",
            "Epoch 19/100\n",
            "240/240 [==============================] - 1s 3ms/step - loss: 27.7458\n",
            "Epoch 20/100\n",
            "240/240 [==============================] - 1s 3ms/step - loss: 27.9375\n",
            "Epoch 21/100\n",
            "240/240 [==============================] - 0s 2ms/step - loss: 27.6052\n",
            "Epoch 22/100\n",
            "240/240 [==============================] - 0s 2ms/step - loss: 27.3431\n",
            "Epoch 23/100\n",
            "240/240 [==============================] - 1s 2ms/step - loss: 27.9196\n",
            "Epoch 24/100\n",
            "240/240 [==============================] - 0s 2ms/step - loss: 27.0778\n",
            "Epoch 25/100\n",
            "240/240 [==============================] - 0s 2ms/step - loss: 27.4641\n",
            "Epoch 26/100\n",
            "240/240 [==============================] - 0s 2ms/step - loss: 27.1617\n",
            "Epoch 27/100\n",
            "240/240 [==============================] - 1s 2ms/step - loss: 27.4477\n",
            "Epoch 28/100\n",
            "240/240 [==============================] - 1s 2ms/step - loss: 27.5373\n",
            "Epoch 29/100\n",
            "240/240 [==============================] - 1s 2ms/step - loss: 27.1187\n",
            "Epoch 30/100\n",
            "240/240 [==============================] - 0s 2ms/step - loss: 27.8677\n",
            "Epoch 31/100\n",
            "240/240 [==============================] - 0s 2ms/step - loss: 27.6870\n",
            "Epoch 32/100\n",
            "240/240 [==============================] - 0s 2ms/step - loss: 27.5962\n",
            "Epoch 33/100\n",
            "240/240 [==============================] - 1s 2ms/step - loss: 27.6044\n",
            "Epoch 34/100\n",
            "240/240 [==============================] - 0s 2ms/step - loss: 27.5115\n",
            "Epoch 35/100\n",
            "240/240 [==============================] - 0s 2ms/step - loss: 27.0970\n",
            "Epoch 36/100\n",
            "240/240 [==============================] - 0s 2ms/step - loss: 27.2027\n",
            "Epoch 37/100\n",
            "240/240 [==============================] - 0s 2ms/step - loss: 26.8493\n",
            "Epoch 38/100\n",
            "240/240 [==============================] - 0s 2ms/step - loss: 27.3322\n",
            "Epoch 39/100\n",
            "240/240 [==============================] - 0s 2ms/step - loss: 27.7826\n",
            "Epoch 40/100\n",
            "240/240 [==============================] - 0s 2ms/step - loss: 27.5327\n",
            "Epoch 41/100\n",
            "240/240 [==============================] - 1s 3ms/step - loss: 28.6424\n",
            "Epoch 42/100\n",
            "240/240 [==============================] - 1s 4ms/step - loss: 26.7396\n",
            "Epoch 43/100\n",
            "240/240 [==============================] - 1s 3ms/step - loss: 28.3811\n",
            "Epoch 44/100\n",
            "240/240 [==============================] - 1s 3ms/step - loss: 27.4371\n",
            "Epoch 45/100\n",
            "240/240 [==============================] - 1s 2ms/step - loss: 27.6106\n",
            "Epoch 46/100\n",
            "240/240 [==============================] - 0s 2ms/step - loss: 27.2587\n",
            "Epoch 47/100\n",
            "240/240 [==============================] - 0s 2ms/step - loss: 27.8282\n",
            "Epoch 48/100\n",
            "240/240 [==============================] - 1s 2ms/step - loss: 27.5056\n",
            "Epoch 49/100\n",
            "240/240 [==============================] - 0s 2ms/step - loss: 27.3279\n",
            "Epoch 50/100\n",
            "240/240 [==============================] - 0s 2ms/step - loss: 27.2753\n",
            "Epoch 51/100\n",
            "240/240 [==============================] - 0s 2ms/step - loss: 27.5821\n",
            "Epoch 52/100\n",
            "240/240 [==============================] - 0s 2ms/step - loss: 27.1715\n",
            "Epoch 53/100\n",
            "240/240 [==============================] - 1s 2ms/step - loss: 26.8314\n",
            "Epoch 54/100\n",
            "240/240 [==============================] - 1s 2ms/step - loss: 27.4015\n",
            "Epoch 55/100\n",
            "240/240 [==============================] - 0s 2ms/step - loss: 28.1066\n",
            "Epoch 56/100\n",
            "240/240 [==============================] - 0s 2ms/step - loss: 28.3942\n",
            "Epoch 57/100\n",
            "240/240 [==============================] - 0s 2ms/step - loss: 27.4252\n",
            "Epoch 58/100\n",
            "240/240 [==============================] - 0s 2ms/step - loss: 27.4148\n",
            "Epoch 59/100\n",
            "240/240 [==============================] - 0s 2ms/step - loss: 27.5248\n",
            "Epoch 60/100\n",
            "240/240 [==============================] - 0s 2ms/step - loss: 27.8044\n",
            "Epoch 61/100\n",
            "240/240 [==============================] - 0s 2ms/step - loss: 27.3946\n",
            "Epoch 62/100\n",
            "240/240 [==============================] - 0s 2ms/step - loss: 27.6051\n",
            "Epoch 63/100\n",
            "240/240 [==============================] - 0s 2ms/step - loss: 27.6305\n",
            "Epoch 64/100\n",
            "240/240 [==============================] - 0s 2ms/step - loss: 26.9776\n",
            "Epoch 65/100\n",
            "240/240 [==============================] - 0s 2ms/step - loss: 27.0192\n",
            "Epoch 66/100\n",
            "240/240 [==============================] - 1s 3ms/step - loss: 26.8042\n",
            "Epoch 67/100\n",
            "240/240 [==============================] - 1s 3ms/step - loss: 27.3713\n",
            "Epoch 68/100\n",
            "240/240 [==============================] - 1s 3ms/step - loss: 27.5604\n",
            "Epoch 69/100\n",
            "240/240 [==============================] - 1s 3ms/step - loss: 27.2715\n",
            "Epoch 70/100\n",
            "240/240 [==============================] - 1s 4ms/step - loss: 27.8067\n",
            "Epoch 71/100\n",
            "240/240 [==============================] - 1s 2ms/step - loss: 26.6705\n",
            "Epoch 72/100\n",
            "240/240 [==============================] - 0s 2ms/step - loss: 26.8275\n",
            "Epoch 73/100\n",
            "240/240 [==============================] - 1s 2ms/step - loss: 26.6324\n",
            "Epoch 74/100\n",
            "240/240 [==============================] - 1s 2ms/step - loss: 27.0777\n",
            "Epoch 75/100\n",
            "240/240 [==============================] - 0s 2ms/step - loss: 27.4269\n",
            "Epoch 76/100\n",
            "240/240 [==============================] - 0s 2ms/step - loss: 28.2542\n",
            "Epoch 77/100\n",
            "240/240 [==============================] - 0s 2ms/step - loss: 26.9409\n",
            "Epoch 78/100\n",
            "240/240 [==============================] - 0s 2ms/step - loss: 27.0661\n",
            "Epoch 79/100\n",
            "240/240 [==============================] - 0s 2ms/step - loss: 27.6676\n",
            "Epoch 80/100\n",
            "240/240 [==============================] - 0s 2ms/step - loss: 26.7534\n",
            "Epoch 81/100\n",
            "240/240 [==============================] - 0s 2ms/step - loss: 27.7944\n",
            "Epoch 82/100\n",
            "240/240 [==============================] - 0s 2ms/step - loss: 27.1652\n",
            "Epoch 83/100\n",
            "240/240 [==============================] - 0s 2ms/step - loss: 27.2293\n",
            "Epoch 84/100\n",
            "240/240 [==============================] - 0s 2ms/step - loss: 27.7091\n",
            "Epoch 85/100\n",
            "240/240 [==============================] - 0s 2ms/step - loss: 26.7564\n",
            "Epoch 86/100\n",
            "240/240 [==============================] - 0s 2ms/step - loss: 28.0165\n",
            "Epoch 87/100\n",
            "240/240 [==============================] - 0s 2ms/step - loss: 26.8559\n",
            "Epoch 88/100\n",
            "240/240 [==============================] - 0s 2ms/step - loss: 27.8266\n",
            "Epoch 89/100\n",
            "240/240 [==============================] - 0s 2ms/step - loss: 28.9873\n",
            "Epoch 90/100\n",
            "240/240 [==============================] - 0s 2ms/step - loss: 27.0608\n",
            "Epoch 91/100\n",
            "240/240 [==============================] - 1s 2ms/step - loss: 27.0300\n",
            "Epoch 92/100\n",
            "240/240 [==============================] - 1s 4ms/step - loss: 27.5505\n",
            "Epoch 93/100\n",
            "240/240 [==============================] - 1s 3ms/step - loss: 26.6503\n",
            "Epoch 94/100\n",
            "240/240 [==============================] - 1s 4ms/step - loss: 27.8087\n",
            "Epoch 95/100\n",
            "240/240 [==============================] - 1s 3ms/step - loss: 27.6328\n",
            "Epoch 96/100\n",
            "240/240 [==============================] - 1s 2ms/step - loss: 27.1033\n",
            "Epoch 97/100\n",
            "240/240 [==============================] - 1s 2ms/step - loss: 27.0883\n",
            "Epoch 98/100\n",
            "240/240 [==============================] - 1s 2ms/step - loss: 27.1838\n",
            "Epoch 99/100\n",
            "240/240 [==============================] - 1s 2ms/step - loss: 28.8124\n",
            "Epoch 100/100\n",
            "240/240 [==============================] - 0s 2ms/step - loss: 26.9594\n"
          ]
        },
        {
          "output_type": "execute_result",
          "data": {
            "text/plain": [
              "<keras.src.callbacks.History at 0x79c393f07490>"
            ]
          },
          "metadata": {},
          "execution_count": 22
        }
      ]
    },
    {
      "cell_type": "markdown",
      "metadata": {
        "id": "0H0zKKNEBLD5"
      },
      "source": [
        "### Predicting the results of the Test set"
      ]
    },
    {
      "cell_type": "code",
      "metadata": {
        "id": "IA0yApEmBG1X",
        "colab": {
          "base_uri": "https://localhost:8080/"
        },
        "outputId": "25ef36a0-211a-49b4-9837-0f8253e8ea45"
      },
      "source": [
        "y_pred = ann.predict(X_test)\n",
        "np.set_printoptions(precision=2)\n",
        "print(np.concatenate((y_pred.reshape(len(y_pred),1), y_test.reshape(len(y_test),1)),1))"
      ],
      "execution_count": 23,
      "outputs": [
        {
          "output_type": "stream",
          "name": "stdout",
          "text": [
            "60/60 [==============================] - 0s 1ms/step\n",
            "[[431.5  431.23]\n",
            " [462.64 460.01]\n",
            " [466.16 461.14]\n",
            " ...\n",
            " [473.38 473.26]\n",
            " [440.19 438.  ]\n",
            " [459.41 463.28]]\n"
          ]
        }
      ]
    },
    {
      "cell_type": "markdown",
      "source": [
        " **checking model accuracy**"
      ],
      "metadata": {
        "id": "tNyjwVXuxvY2"
      }
    },
    {
      "cell_type": "code",
      "source": [
        "from sklearn.metrics import r2_score\n",
        "r2_score(y_test,y_pred)"
      ],
      "metadata": {
        "colab": {
          "base_uri": "https://localhost:8080/"
        },
        "id": "7mR5zYnlvhN2",
        "outputId": "a2fd45f0-f2b3-4c18-f615-e525a224da29"
      },
      "execution_count": 24,
      "outputs": [
        {
          "output_type": "execute_result",
          "data": {
            "text/plain": [
              "0.9157422852516608"
            ]
          },
          "metadata": {},
          "execution_count": 24
        }
      ]
    },
    {
      "cell_type": "code",
      "source": [
        "from sklearn.metrics import mean_squared_error, mean_absolute_error\n",
        "\n",
        "mse = mean_squared_error(y_test,y_pred)\n",
        "mae = mean_absolute_error(y_test,y_pred)\n",
        "\n",
        "print(f'Mean Squared Error (MSE): {mse}')\n",
        "print(f'Mean Absolute Error (MAE): {mae}')"
      ],
      "metadata": {
        "colab": {
          "base_uri": "https://localhost:8080/"
        },
        "id": "_AmKDjy1xYJ3",
        "outputId": "42bf8fbd-2936-433c-f3c1-c4202086b107"
      },
      "execution_count": 25,
      "outputs": [
        {
          "output_type": "stream",
          "name": "stdout",
          "text": [
            "Mean Squared Error (MSE): 24.644356611116947\n",
            "Mean Absolute Error (MAE): 3.956957507158397\n"
          ]
        }
      ]
    }
  ]
}